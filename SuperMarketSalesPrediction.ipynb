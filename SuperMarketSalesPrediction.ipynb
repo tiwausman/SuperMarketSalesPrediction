{
 "cells": [
  {
   "cell_type": "code",
   "execution_count": 1,
   "id": "abe1e3e7",
   "metadata": {},
   "outputs": [],
   "source": [
    "import pandas as pd"
   ]
  },
  {
   "cell_type": "code",
   "execution_count": 2,
   "id": "c8eba431",
   "metadata": {},
   "outputs": [],
   "source": [
    "df = pd.read_csv(\"sales.csv\")"
   ]
  },
  {
   "cell_type": "code",
   "execution_count": 3,
   "id": "9ce34c50",
   "metadata": {},
   "outputs": [
    {
     "data": {
      "text/html": [
       "<div>\n",
       "<style scoped>\n",
       "    .dataframe tbody tr th:only-of-type {\n",
       "        vertical-align: middle;\n",
       "    }\n",
       "\n",
       "    .dataframe tbody tr th {\n",
       "        vertical-align: top;\n",
       "    }\n",
       "\n",
       "    .dataframe thead th {\n",
       "        text-align: right;\n",
       "    }\n",
       "</style>\n",
       "<table border=\"1\" class=\"dataframe\">\n",
       "  <thead>\n",
       "    <tr style=\"text-align: right;\">\n",
       "      <th></th>\n",
       "      <th>sale_id</th>\n",
       "      <th>branch</th>\n",
       "      <th>city</th>\n",
       "      <th>customer_type</th>\n",
       "      <th>gender</th>\n",
       "      <th>product_name</th>\n",
       "      <th>product_category</th>\n",
       "      <th>unit_price</th>\n",
       "      <th>quantity</th>\n",
       "      <th>tax</th>\n",
       "      <th>total_price</th>\n",
       "      <th>reward_points</th>\n",
       "    </tr>\n",
       "  </thead>\n",
       "  <tbody>\n",
       "    <tr>\n",
       "      <th>0</th>\n",
       "      <td>1</td>\n",
       "      <td>A</td>\n",
       "      <td>New York</td>\n",
       "      <td>Member</td>\n",
       "      <td>Male</td>\n",
       "      <td>Shampoo</td>\n",
       "      <td>Personal Care</td>\n",
       "      <td>5.50</td>\n",
       "      <td>3</td>\n",
       "      <td>1.16</td>\n",
       "      <td>17.66</td>\n",
       "      <td>1</td>\n",
       "    </tr>\n",
       "    <tr>\n",
       "      <th>1</th>\n",
       "      <td>2</td>\n",
       "      <td>B</td>\n",
       "      <td>Los Angeles</td>\n",
       "      <td>Normal</td>\n",
       "      <td>Female</td>\n",
       "      <td>Notebook</td>\n",
       "      <td>Stationery</td>\n",
       "      <td>2.75</td>\n",
       "      <td>10</td>\n",
       "      <td>1.93</td>\n",
       "      <td>29.43</td>\n",
       "      <td>0</td>\n",
       "    </tr>\n",
       "    <tr>\n",
       "      <th>2</th>\n",
       "      <td>3</td>\n",
       "      <td>A</td>\n",
       "      <td>New York</td>\n",
       "      <td>Member</td>\n",
       "      <td>Female</td>\n",
       "      <td>Apple</td>\n",
       "      <td>Fruits</td>\n",
       "      <td>1.20</td>\n",
       "      <td>15</td>\n",
       "      <td>1.26</td>\n",
       "      <td>19.26</td>\n",
       "      <td>1</td>\n",
       "    </tr>\n",
       "    <tr>\n",
       "      <th>3</th>\n",
       "      <td>4</td>\n",
       "      <td>A</td>\n",
       "      <td>Chicago</td>\n",
       "      <td>Normal</td>\n",
       "      <td>Male</td>\n",
       "      <td>Detergent</td>\n",
       "      <td>Household</td>\n",
       "      <td>7.80</td>\n",
       "      <td>5</td>\n",
       "      <td>2.73</td>\n",
       "      <td>41.73</td>\n",
       "      <td>0</td>\n",
       "    </tr>\n",
       "    <tr>\n",
       "      <th>4</th>\n",
       "      <td>5</td>\n",
       "      <td>B</td>\n",
       "      <td>Los Angeles</td>\n",
       "      <td>Member</td>\n",
       "      <td>Female</td>\n",
       "      <td>Orange Juice</td>\n",
       "      <td>Beverages</td>\n",
       "      <td>3.50</td>\n",
       "      <td>7</td>\n",
       "      <td>1.72</td>\n",
       "      <td>26.22</td>\n",
       "      <td>2</td>\n",
       "    </tr>\n",
       "    <tr>\n",
       "      <th>...</th>\n",
       "      <td>...</td>\n",
       "      <td>...</td>\n",
       "      <td>...</td>\n",
       "      <td>...</td>\n",
       "      <td>...</td>\n",
       "      <td>...</td>\n",
       "      <td>...</td>\n",
       "      <td>...</td>\n",
       "      <td>...</td>\n",
       "      <td>...</td>\n",
       "      <td>...</td>\n",
       "      <td>...</td>\n",
       "    </tr>\n",
       "    <tr>\n",
       "      <th>995</th>\n",
       "      <td>996</td>\n",
       "      <td>A</td>\n",
       "      <td>New York</td>\n",
       "      <td>Member</td>\n",
       "      <td>Female</td>\n",
       "      <td>Shampoo</td>\n",
       "      <td>Stationery</td>\n",
       "      <td>1.55</td>\n",
       "      <td>11</td>\n",
       "      <td>1.19</td>\n",
       "      <td>18.24</td>\n",
       "      <td>1</td>\n",
       "    </tr>\n",
       "    <tr>\n",
       "      <th>996</th>\n",
       "      <td>997</td>\n",
       "      <td>A</td>\n",
       "      <td>New York</td>\n",
       "      <td>Member</td>\n",
       "      <td>Male</td>\n",
       "      <td>Detergent</td>\n",
       "      <td>Personal Care</td>\n",
       "      <td>2.44</td>\n",
       "      <td>7</td>\n",
       "      <td>1.20</td>\n",
       "      <td>18.28</td>\n",
       "      <td>1</td>\n",
       "    </tr>\n",
       "    <tr>\n",
       "      <th>997</th>\n",
       "      <td>998</td>\n",
       "      <td>A</td>\n",
       "      <td>New York</td>\n",
       "      <td>Member</td>\n",
       "      <td>Female</td>\n",
       "      <td>Shampoo</td>\n",
       "      <td>Stationery</td>\n",
       "      <td>17.92</td>\n",
       "      <td>2</td>\n",
       "      <td>2.51</td>\n",
       "      <td>38.35</td>\n",
       "      <td>3</td>\n",
       "    </tr>\n",
       "    <tr>\n",
       "      <th>998</th>\n",
       "      <td>999</td>\n",
       "      <td>A</td>\n",
       "      <td>New York</td>\n",
       "      <td>Member</td>\n",
       "      <td>Female</td>\n",
       "      <td>Shampoo</td>\n",
       "      <td>Beverages</td>\n",
       "      <td>17.41</td>\n",
       "      <td>4</td>\n",
       "      <td>4.87</td>\n",
       "      <td>74.51</td>\n",
       "      <td>7</td>\n",
       "    </tr>\n",
       "    <tr>\n",
       "      <th>999</th>\n",
       "      <td>1000</td>\n",
       "      <td>A</td>\n",
       "      <td>New York</td>\n",
       "      <td>Normal</td>\n",
       "      <td>Male</td>\n",
       "      <td>Orange Juice</td>\n",
       "      <td>Stationery</td>\n",
       "      <td>4.11</td>\n",
       "      <td>4</td>\n",
       "      <td>1.15</td>\n",
       "      <td>17.59</td>\n",
       "      <td>0</td>\n",
       "    </tr>\n",
       "  </tbody>\n",
       "</table>\n",
       "<p>1000 rows × 12 columns</p>\n",
       "</div>"
      ],
      "text/plain": [
       "     sale_id branch         city customer_type  gender  product_name  \\\n",
       "0          1      A     New York        Member    Male       Shampoo   \n",
       "1          2      B  Los Angeles        Normal  Female      Notebook   \n",
       "2          3      A     New York        Member  Female         Apple   \n",
       "3          4      A      Chicago        Normal    Male     Detergent   \n",
       "4          5      B  Los Angeles        Member  Female  Orange Juice   \n",
       "..       ...    ...          ...           ...     ...           ...   \n",
       "995      996      A     New York        Member  Female       Shampoo   \n",
       "996      997      A     New York        Member    Male     Detergent   \n",
       "997      998      A     New York        Member  Female       Shampoo   \n",
       "998      999      A     New York        Member  Female       Shampoo   \n",
       "999     1000      A     New York        Normal    Male  Orange Juice   \n",
       "\n",
       "    product_category  unit_price  quantity   tax  total_price  reward_points  \n",
       "0      Personal Care        5.50         3  1.16        17.66              1  \n",
       "1         Stationery        2.75        10  1.93        29.43              0  \n",
       "2             Fruits        1.20        15  1.26        19.26              1  \n",
       "3          Household        7.80         5  2.73        41.73              0  \n",
       "4          Beverages        3.50         7  1.72        26.22              2  \n",
       "..               ...         ...       ...   ...          ...            ...  \n",
       "995       Stationery        1.55        11  1.19        18.24              1  \n",
       "996    Personal Care        2.44         7  1.20        18.28              1  \n",
       "997       Stationery       17.92         2  2.51        38.35              3  \n",
       "998        Beverages       17.41         4  4.87        74.51              7  \n",
       "999       Stationery        4.11         4  1.15        17.59              0  \n",
       "\n",
       "[1000 rows x 12 columns]"
      ]
     },
     "execution_count": 3,
     "metadata": {},
     "output_type": "execute_result"
    }
   ],
   "source": [
    "df"
   ]
  },
  {
   "cell_type": "code",
   "execution_count": 4,
   "id": "f7136b02",
   "metadata": {},
   "outputs": [
    {
     "name": "stdout",
     "output_type": "stream",
     "text": [
      "<class 'pandas.core.frame.DataFrame'>\n",
      "RangeIndex: 1000 entries, 0 to 999\n",
      "Data columns (total 12 columns):\n",
      " #   Column            Non-Null Count  Dtype  \n",
      "---  ------            --------------  -----  \n",
      " 0   sale_id           1000 non-null   int64  \n",
      " 1   branch            1000 non-null   object \n",
      " 2   city              1000 non-null   object \n",
      " 3   customer_type     1000 non-null   object \n",
      " 4   gender            1000 non-null   object \n",
      " 5   product_name      1000 non-null   object \n",
      " 6   product_category  1000 non-null   object \n",
      " 7   unit_price        1000 non-null   float64\n",
      " 8   quantity          1000 non-null   int64  \n",
      " 9   tax               1000 non-null   float64\n",
      " 10  total_price       1000 non-null   float64\n",
      " 11  reward_points     1000 non-null   int64  \n",
      "dtypes: float64(3), int64(3), object(6)\n",
      "memory usage: 93.9+ KB\n"
     ]
    }
   ],
   "source": [
    "df.info()"
   ]
  },
  {
   "cell_type": "code",
   "execution_count": 5,
   "id": "10d98135",
   "metadata": {},
   "outputs": [
    {
     "data": {
      "text/plain": [
       "(1000, 12)"
      ]
     },
     "execution_count": 5,
     "metadata": {},
     "output_type": "execute_result"
    }
   ],
   "source": [
    "df.shape"
   ]
  },
  {
   "cell_type": "code",
   "execution_count": 7,
   "id": "b3fbd25d",
   "metadata": {},
   "outputs": [
    {
     "data": {
      "text/html": [
       "<div>\n",
       "<style scoped>\n",
       "    .dataframe tbody tr th:only-of-type {\n",
       "        vertical-align: middle;\n",
       "    }\n",
       "\n",
       "    .dataframe tbody tr th {\n",
       "        vertical-align: top;\n",
       "    }\n",
       "\n",
       "    .dataframe thead th {\n",
       "        text-align: right;\n",
       "    }\n",
       "</style>\n",
       "<table border=\"1\" class=\"dataframe\">\n",
       "  <thead>\n",
       "    <tr style=\"text-align: right;\">\n",
       "      <th></th>\n",
       "      <th>branch</th>\n",
       "      <th>city</th>\n",
       "      <th>customer_type</th>\n",
       "      <th>gender</th>\n",
       "      <th>product_name</th>\n",
       "      <th>product_category</th>\n",
       "      <th>unit_price</th>\n",
       "      <th>quantity</th>\n",
       "      <th>tax</th>\n",
       "      <th>total_price</th>\n",
       "      <th>reward_points</th>\n",
       "    </tr>\n",
       "  </thead>\n",
       "  <tbody>\n",
       "    <tr>\n",
       "      <th>0</th>\n",
       "      <td>A</td>\n",
       "      <td>New York</td>\n",
       "      <td>Member</td>\n",
       "      <td>Male</td>\n",
       "      <td>Shampoo</td>\n",
       "      <td>Personal Care</td>\n",
       "      <td>5.50</td>\n",
       "      <td>3</td>\n",
       "      <td>1.16</td>\n",
       "      <td>17.66</td>\n",
       "      <td>1</td>\n",
       "    </tr>\n",
       "    <tr>\n",
       "      <th>1</th>\n",
       "      <td>B</td>\n",
       "      <td>Los Angeles</td>\n",
       "      <td>Normal</td>\n",
       "      <td>Female</td>\n",
       "      <td>Notebook</td>\n",
       "      <td>Stationery</td>\n",
       "      <td>2.75</td>\n",
       "      <td>10</td>\n",
       "      <td>1.93</td>\n",
       "      <td>29.43</td>\n",
       "      <td>0</td>\n",
       "    </tr>\n",
       "    <tr>\n",
       "      <th>2</th>\n",
       "      <td>A</td>\n",
       "      <td>New York</td>\n",
       "      <td>Member</td>\n",
       "      <td>Female</td>\n",
       "      <td>Apple</td>\n",
       "      <td>Fruits</td>\n",
       "      <td>1.20</td>\n",
       "      <td>15</td>\n",
       "      <td>1.26</td>\n",
       "      <td>19.26</td>\n",
       "      <td>1</td>\n",
       "    </tr>\n",
       "    <tr>\n",
       "      <th>3</th>\n",
       "      <td>A</td>\n",
       "      <td>Chicago</td>\n",
       "      <td>Normal</td>\n",
       "      <td>Male</td>\n",
       "      <td>Detergent</td>\n",
       "      <td>Household</td>\n",
       "      <td>7.80</td>\n",
       "      <td>5</td>\n",
       "      <td>2.73</td>\n",
       "      <td>41.73</td>\n",
       "      <td>0</td>\n",
       "    </tr>\n",
       "    <tr>\n",
       "      <th>4</th>\n",
       "      <td>B</td>\n",
       "      <td>Los Angeles</td>\n",
       "      <td>Member</td>\n",
       "      <td>Female</td>\n",
       "      <td>Orange Juice</td>\n",
       "      <td>Beverages</td>\n",
       "      <td>3.50</td>\n",
       "      <td>7</td>\n",
       "      <td>1.72</td>\n",
       "      <td>26.22</td>\n",
       "      <td>2</td>\n",
       "    </tr>\n",
       "  </tbody>\n",
       "</table>\n",
       "</div>"
      ],
      "text/plain": [
       "  branch         city customer_type  gender  product_name product_category  \\\n",
       "0      A     New York        Member    Male       Shampoo    Personal Care   \n",
       "1      B  Los Angeles        Normal  Female      Notebook       Stationery   \n",
       "2      A     New York        Member  Female         Apple           Fruits   \n",
       "3      A      Chicago        Normal    Male     Detergent        Household   \n",
       "4      B  Los Angeles        Member  Female  Orange Juice        Beverages   \n",
       "\n",
       "   unit_price  quantity   tax  total_price  reward_points  \n",
       "0        5.50         3  1.16        17.66              1  \n",
       "1        2.75        10  1.93        29.43              0  \n",
       "2        1.20        15  1.26        19.26              1  \n",
       "3        7.80         5  2.73        41.73              0  \n",
       "4        3.50         7  1.72        26.22              2  "
      ]
     },
     "execution_count": 7,
     "metadata": {},
     "output_type": "execute_result"
    }
   ],
   "source": [
    "#Dataset as no missing values\n",
    "#The sale_id column needs to be dropped\n",
    "df.drop(columns=[\"sale_id\"], inplace=True)\n",
    "df.head()"
   ]
  },
  {
   "cell_type": "code",
   "execution_count": 10,
   "id": "934c8c4a",
   "metadata": {},
   "outputs": [
    {
     "data": {
      "text/plain": [
       "(1000, 11)"
      ]
     },
     "execution_count": 10,
     "metadata": {},
     "output_type": "execute_result"
    }
   ],
   "source": [
    "# Quick dataset overview\n",
    "df.shape"
   ]
  },
  {
   "cell_type": "code",
   "execution_count": 22,
   "id": "2943bead",
   "metadata": {},
   "outputs": [
    {
     "name": "stdout",
     "output_type": "stream",
     "text": [
      "branch\n",
      "['A' 'B']\n",
      "city\n",
      "['New York' 'Los Angeles' 'Chicago']\n",
      "customer_type\n",
      "['Member' 'Normal']\n",
      "gender\n",
      "['Male' 'Female']\n",
      "product_name\n",
      "['Shampoo' 'Notebook' 'Apple' 'Detergent' 'Orange Juice']\n",
      "product_category\n",
      "['Personal Care' 'Stationery' 'Fruits' 'Household' 'Beverages']\n"
     ]
    }
   ],
   "source": [
    "for column in df.columns:\n",
    "    if df[column].dtype == 'object':\n",
    "        unq = df[column].unique()\n",
    "        print(column)\n",
    "        print(unq)"
   ]
  },
  {
   "cell_type": "code",
   "execution_count": 25,
   "id": "b12bc985",
   "metadata": {},
   "outputs": [
    {
     "data": {
      "image/png": "[encoded data removed]",
      "text/plain": [
       "<Figure size 720x432 with 1 Axes>"
      ]
     },
     "metadata": {
      "needs_background": "light"
     },
     "output_type": "display_data"
    },
    {
     "name": "stdout",
     "output_type": "stream",
     "text": [
      "\n",
      "Percentage Distribution of Product Preference by Gender:\n",
      "gender           Female       Male\n",
      "product_name                      \n",
      "Apple         46.486486  53.513514\n",
      "Detergent     51.322751  48.677249\n",
      "Notebook      50.515464  49.484536\n",
      "Orange Juice  44.230769  55.769231\n",
      "Shampoo       44.196429  55.803571\n"
     ]
    },
    {
     "data": {
      "image/png": "[encoded data removed]",
      "text/plain": [
       "<Figure size 576x432 with 2 Axes>"
      ]
     },
     "metadata": {
      "needs_background": "light"
     },
     "output_type": "display_data"
    }
   ],
   "source": [
    "# Count plot for Product_Name distribution by Gender\n",
    "plt.figure(figsize=(10, 6))\n",
    "sns.countplot(x='product_name', hue='gender', data=df, palette='Set2')\n",
    "plt.title('Product Preference by Gender')\n",
    "plt.xlabel('Product Name')\n",
    "plt.ylabel('Count')\n",
    "plt.legend(title='Gender')\n",
    "plt.show()\n",
    "\n",
    "# Create a pivot table to compute product preferences by gender\n",
    "product_pivot = pd.crosstab(df['product_name'], df['gender'], normalize='index') * 100\n",
    "print(\"\\nPercentage Distribution of Product Preference by Gender:\")\n",
    "print(product_pivot)\n",
    "\n",
    "# Heatmap to visualize percentage preferences\n",
    "plt.figure(figsize=(8, 6))\n",
    "sns.heatmap(product_pivot, annot=True, fmt=\".1f\", cmap='coolwarm')\n",
    "plt.title('Product Preference by Gender (Percentage)')\n",
    "plt.xlabel('Gender')\n",
    "plt.ylabel('Product Name')\n",
    "plt.show()\n"
   ]
  },
  {
   "cell_type": "code",
   "execution_count": 26,
   "id": "786aa90f",
   "metadata": {},
   "outputs": [
    {
     "data": {
      "image/png": "[encoded data removed]",
      "text/plain": [
       "<Figure size 720x432 with 1 Axes>"
      ]
     },
     "metadata": {
      "needs_background": "light"
     },
     "output_type": "display_data"
    },
    {
     "name": "stdout",
     "output_type": "stream",
     "text": [
      "\n",
      "Percentage Distribution of Product Preference by Gender:\n",
      "gender               Female       Male\n",
      "product_category                      \n",
      "Beverages         45.454545  54.545455\n",
      "Fruits            50.717703  49.282297\n",
      "Household         45.454545  54.545455\n",
      "Personal Care     48.557692  51.442308\n",
      "Stationery        45.454545  54.545455\n"
     ]
    },
    {
     "data": {
      "image/png": "[encoded data removed]",
      "text/plain": [
       "<Figure size 576x432 with 2 Axes>"
      ]
     },
     "metadata": {
      "needs_background": "light"
     },
     "output_type": "display_data"
    }
   ],
   "source": [
    "# Count plot for Product_category distribution by Gender\n",
    "plt.figure(figsize=(10, 6))\n",
    "sns.countplot(x='product_category', hue='gender', data=df, palette='Set2')\n",
    "plt.title('Product Category by Gender')\n",
    "plt.xlabel('Product category')\n",
    "plt.ylabel('Count')\n",
    "plt.legend(title='Gender')\n",
    "plt.show()\n",
    "\n",
    "# Create a pivot table to compute product preferences by gender\n",
    "product_pivot = pd.crosstab(df['product_category'], df['gender'], normalize='index') * 100\n",
    "print(\"\\nPercentage Distribution of Product Preference by Gender:\")\n",
    "print(product_pivot)\n",
    "\n",
    "# Heatmap to visualize percentage preferences\n",
    "plt.figure(figsize=(8, 6))\n",
    "sns.heatmap(product_pivot, annot=True, fmt=\".1f\", cmap='coolwarm')\n",
    "plt.title('Product Preference by Gender (Percentage)')\n",
    "plt.xlabel('Gender')\n",
    "plt.ylabel('Product category')\n",
    "plt.show()\n"
   ]
  },
  {
   "cell_type": "code",
   "execution_count": 36,
   "id": "25f4f7e2",
   "metadata": {},
   "outputs": [
    {
     "data": {
      "image/png": "[encoded data removed]",
      "text/plain": [
       "<Figure size 720x432 with 1 Axes>"
      ]
     },
     "metadata": {
      "needs_background": "light"
     },
     "output_type": "display_data"
    },
    {
     "name": "stdout",
     "output_type": "stream",
     "text": [
      "\n",
      "Percentage Distribution of Product Preference by City:\n",
      "city                Chicago  Los Angeles   New York\n",
      "product_category                                   \n",
      "Beverages         25.668449    37.967914  36.363636\n",
      "Fruits            34.449761    36.842105  28.708134\n",
      "Household         33.333333    31.818182  34.848485\n",
      "Personal Care     31.250000    30.769231  37.980769\n",
      "Stationery        39.898990    25.757576  34.343434\n"
     ]
    },
    {
     "data": {
      "image/png": "[encoded data removed]",
      "text/plain": [
       "<Figure size 576x432 with 2 Axes>"
      ]
     },
     "metadata": {
      "needs_background": "light"
     },
     "output_type": "display_data"
    }
   ],
   "source": [
    "# Count plot for Product_category distribution by City\n",
    "plt.figure(figsize=(10, 6))\n",
    "sns.countplot(x='product_category', hue='city', data=df, palette='Set2')\n",
    "plt.title('Product Category by City')\n",
    "plt.xlabel('Product category')\n",
    "plt.ylabel('Count')\n",
    "plt.legend(title='Cityr')\n",
    "plt.show()\n",
    "\n",
    "# Create a pivot table to compute product preferences by City\n",
    "product_pivot = pd.crosstab(df['product_category'], df['city'], normalize='index') * 100\n",
    "print(\"\\nPercentage Distribution of Product Preference by City:\")\n",
    "print(product_pivot)\n",
    "\n",
    "# Heatmap to visualize percentage preferences\n",
    "plt.figure(figsize=(8, 6))\n",
    "sns.heatmap(product_pivot, annot=True, fmt=\".1f\", cmap='coolwarm')\n",
    "plt.title('Product Preference by City (Percentage)')\n",
    "plt.xlabel('City')\n",
    "plt.ylabel('Product category')\n",
    "plt.show()"
   ]
  },
  {
   "cell_type": "code",
   "execution_count": 27,
   "id": "7de749c3",
   "metadata": {},
   "outputs": [
    {
     "name": "stdout",
     "output_type": "stream",
     "text": [
      "Total Sales Per Branch:\n",
      "  Branch  Total Sales\n",
      "0      A     82811.64\n",
      "1      B     35772.26\n"
     ]
    },
    {
     "data": {
      "image/png": "[encoded data removed]",
      "text/plain": [
       "<Figure size 576x432 with 1 Axes>"
      ]
     },
     "metadata": {
      "needs_background": "light"
     },
     "output_type": "display_data"
    }
   ],
   "source": [
    "# Calculate total sales per branch\n",
    "sales_per_branch = df.groupby('branch')['total_price'].sum().reset_index()\n",
    "\n",
    "# Rename columns for clarity\n",
    "sales_per_branch.columns = ['Branch', 'Total Sales']\n",
    "\n",
    "# Print the total sales per branch\n",
    "print(\"Total Sales Per Branch:\")\n",
    "print(sales_per_branch)\n",
    "\n",
    "# Bar plot to visualize sales per branch\n",
    "plt.figure(figsize=(8, 6))\n",
    "sns.barplot(x='Branch', y='Total Sales', data=sales_per_branch, palette='Blues_d')\n",
    "plt.title('Total Sales Per Branch')\n",
    "plt.xlabel('Branch')\n",
    "plt.ylabel('Total Sales')\n",
    "plt.show()\n"
   ]
  },
  {
   "cell_type": "code",
   "execution_count": 35,
   "id": "f9fe81d4",
   "metadata": {},
   "outputs": [
    {
     "name": "stdout",
     "output_type": "stream",
     "text": [
      "Total Sales Per City:\n",
      "          City  Total Sales\n",
      "0      Chicago     42584.71\n",
      "1  Los Angeles     35772.26\n",
      "2     New York     40226.93\n"
     ]
    },
    {
     "data": {
      "image/png": "[encoded data removed]",
      "text/plain": [
       "<Figure size 576x432 with 1 Axes>"
      ]
     },
     "metadata": {
      "needs_background": "light"
     },
     "output_type": "display_data"
    }
   ],
   "source": [
    "# Calculate total sales per city\n",
    "sales_per_city = df.groupby('city')['total_price'].sum().reset_index()\n",
    "\n",
    "# Rename columns for clarity\n",
    "sales_per_city.columns = ['City', 'Total Sales']\n",
    "\n",
    "# Print the total sales per branch\n",
    "print(\"Total Sales Per City:\")\n",
    "print(sales_per_city)\n",
    "\n",
    "# Bar plot to visualize sales per branch\n",
    "plt.figure(figsize=(8, 6))\n",
    "sns.barplot(x='City', y='Total Sales', data=sales_per_city, palette='Greens_d')\n",
    "plt.title('Total Sales Per Branch')\n",
    "plt.xlabel('City')\n",
    "plt.ylabel('Total Sales')\n",
    "plt.show()\n"
   ]
  },
  {
   "cell_type": "code",
   "execution_count": 30,
   "id": "b9e871af",
   "metadata": {},
   "outputs": [
    {
     "name": "stdout",
     "output_type": "stream",
     "text": [
      "Total Sales Per customer type:\n",
      "  Customer_Type  Total Sales\n",
      "0        Member     63213.63\n",
      "1        Normal     55370.27\n"
     ]
    },
    {
     "data": {
      "image/png": "[encoded data removed]",
      "text/plain": [
       "<Figure size 576x432 with 1 Axes>"
      ]
     },
     "metadata": {
      "needs_background": "light"
     },
     "output_type": "display_data"
    }
   ],
   "source": [
    "# Calculate total sales per type of customer_type\n",
    "sales_per_customer_type = df.groupby('customer_type')['total_price'].sum().reset_index()\n",
    "\n",
    "# Rename columns for clarity\n",
    "sales_per_customer_type.columns = ['Customer_Type', 'Total Sales']\n",
    "\n",
    "# Print the total sales per branch\n",
    "print(\"Total Sales Per customer type:\")\n",
    "print(sales_per_customer_type)\n",
    "\n",
    "# Bar plot to visualize sales per branch\n",
    "plt.figure(figsize=(8, 6))\n",
    "sns.barplot(x='Customer_Type', y='Total Sales', data=sales_per_customer_type, palette='Blues_d')\n",
    "plt.title('Total Sales Per customer type')\n",
    "plt.xlabel('Customer_Type')\n",
    "plt.ylabel('Total Sales')\n",
    "plt.show()"
   ]
  },
  {
   "cell_type": "code",
   "execution_count": 24,
   "id": "66974680",
   "metadata": {},
   "outputs": [
    {
     "data": {
      "image/png": "[encoded data removed]",
      "text/plain": [
       "<Figure size 720x432 with 1 Axes>"
      ]
     },
     "metadata": {
      "needs_background": "light"
     },
     "output_type": "display_data"
    },
    {
     "data": {
      "image/png": "[encoded data removed]",
      "text/plain": [
       "<Figure size 720x432 with 1 Axes>"
      ]
     },
     "metadata": {
      "needs_background": "light"
     },
     "output_type": "display_data"
    },
    {
     "data": {
      "image/png": "[encoded data removed]",
      "text/plain": [
       "<Figure size 720x432 with 1 Axes>"
      ]
     },
     "metadata": {
      "needs_background": "light"
     },
     "output_type": "display_data"
    }
   ],
   "source": [
    "import pandas as pd\n",
    "import seaborn as sns\n",
    "import matplotlib.pyplot as plt\n",
    "\n",
    "# Boxplot to show distribution of Total_Price by Gender\n",
    "plt.figure(figsize=(10, 6))\n",
    "sns.boxplot(x='gender', y='total_price', data=df, palette='Set3')\n",
    "plt.title('Distribution of Total Price by Gender')\n",
    "plt.xlabel('Gender')\n",
    "plt.ylabel('Total Price')\n",
    "plt.show()\n",
    "\n",
    "# Bar plot to show average Total_Price by Gender\n",
    "plt.figure(figsize=(10, 6))\n",
    "sns.barplot(x='gender', y='total_price', data=df, ci='sd', palette='viridis')\n",
    "plt.title('Average Total Price by Gender')\n",
    "plt.xlabel('Gender')\n",
    "plt.ylabel('Average Total Price')\n",
    "plt.show()\n",
    "\n",
    "# KDE Plot to compare Total_Price distribution for different genders\n",
    "plt.figure(figsize=(10, 6))\n",
    "sns.kdeplot(data=df, x='total_price', hue='gender', fill=True, palette='muted', alpha=0.5)\n",
    "plt.title('Total Price Distribution by Gender')\n",
    "plt.xlabel('Total Price')\n",
    "plt.ylabel('Density')\n",
    "plt.show()\n"
   ]
  },
  {
   "cell_type": "code",
   "execution_count": 11,
   "id": "c98378f3",
   "metadata": {},
   "outputs": [
    {
     "data": {
      "text/html": [
       "<div>\n",
       "<style scoped>\n",
       "    .dataframe tbody tr th:only-of-type {\n",
       "        vertical-align: middle;\n",
       "    }\n",
       "\n",
       "    .dataframe tbody tr th {\n",
       "        vertical-align: top;\n",
       "    }\n",
       "\n",
       "    .dataframe thead th {\n",
       "        text-align: right;\n",
       "    }\n",
       "</style>\n",
       "<table border=\"1\" class=\"dataframe\">\n",
       "  <thead>\n",
       "    <tr style=\"text-align: right;\">\n",
       "      <th></th>\n",
       "      <th>unit_price</th>\n",
       "      <th>quantity</th>\n",
       "      <th>tax</th>\n",
       "      <th>total_price</th>\n",
       "      <th>reward_points</th>\n",
       "    </tr>\n",
       "  </thead>\n",
       "  <tbody>\n",
       "    <tr>\n",
       "      <th>count</th>\n",
       "      <td>1000.000000</td>\n",
       "      <td>1000.000000</td>\n",
       "      <td>1000.000000</td>\n",
       "      <td>1000.000000</td>\n",
       "      <td>1000.000000</td>\n",
       "    </tr>\n",
       "    <tr>\n",
       "      <th>mean</th>\n",
       "      <td>10.836110</td>\n",
       "      <td>10.337000</td>\n",
       "      <td>7.758010</td>\n",
       "      <td>118.583900</td>\n",
       "      <td>6.057000</td>\n",
       "    </tr>\n",
       "    <tr>\n",
       "      <th>std</th>\n",
       "      <td>5.775924</td>\n",
       "      <td>6.029908</td>\n",
       "      <td>6.538066</td>\n",
       "      <td>99.936441</td>\n",
       "      <td>9.350464</td>\n",
       "    </tr>\n",
       "    <tr>\n",
       "      <th>min</th>\n",
       "      <td>1.020000</td>\n",
       "      <td>1.000000</td>\n",
       "      <td>0.080000</td>\n",
       "      <td>1.210000</td>\n",
       "      <td>0.000000</td>\n",
       "    </tr>\n",
       "    <tr>\n",
       "      <th>25%</th>\n",
       "      <td>5.867500</td>\n",
       "      <td>5.000000</td>\n",
       "      <td>2.510000</td>\n",
       "      <td>38.380000</td>\n",
       "      <td>0.000000</td>\n",
       "    </tr>\n",
       "    <tr>\n",
       "      <th>50%</th>\n",
       "      <td>10.615000</td>\n",
       "      <td>10.000000</td>\n",
       "      <td>5.870000</td>\n",
       "      <td>89.705000</td>\n",
       "      <td>0.000000</td>\n",
       "    </tr>\n",
       "    <tr>\n",
       "      <th>75%</th>\n",
       "      <td>15.882500</td>\n",
       "      <td>16.000000</td>\n",
       "      <td>11.522500</td>\n",
       "      <td>176.072500</td>\n",
       "      <td>10.000000</td>\n",
       "    </tr>\n",
       "    <tr>\n",
       "      <th>max</th>\n",
       "      <td>20.980000</td>\n",
       "      <td>20.000000</td>\n",
       "      <td>28.390000</td>\n",
       "      <td>433.990000</td>\n",
       "      <td>43.000000</td>\n",
       "    </tr>\n",
       "  </tbody>\n",
       "</table>\n",
       "</div>"
      ],
      "text/plain": [
       "        unit_price     quantity          tax  total_price  reward_points\n",
       "count  1000.000000  1000.000000  1000.000000  1000.000000    1000.000000\n",
       "mean     10.836110    10.337000     7.758010   118.583900       6.057000\n",
       "std       5.775924     6.029908     6.538066    99.936441       9.350464\n",
       "min       1.020000     1.000000     0.080000     1.210000       0.000000\n",
       "25%       5.867500     5.000000     2.510000    38.380000       0.000000\n",
       "50%      10.615000    10.000000     5.870000    89.705000       0.000000\n",
       "75%      15.882500    16.000000    11.522500   176.072500      10.000000\n",
       "max      20.980000    20.000000    28.390000   433.990000      43.000000"
      ]
     },
     "execution_count": 11,
     "metadata": {},
     "output_type": "execute_result"
    }
   ],
   "source": [
    "#EXPLORATORY DATA ANALYSIS\n",
    "df.describe()"
   ]
  },
  {
   "cell_type": "code",
   "execution_count": 43,
   "id": "e0f1bc01",
   "metadata": {},
   "outputs": [],
   "source": [
    "#Building regression models and comparing their performance.\n",
    "# For splitting the dataset into training and testing sets\n",
    "from sklearn.model_selection import train_test_split\n",
    "# For scaling the data\n",
    "from sklearn.preprocessing import StandardScaler\n",
    "from sklearn.ensemble import RandomForestRegressor, GradientBoostingRegressor\n",
    "\n",
    "# For training the Linear Regression model\n",
    "from sklearn.linear_model import LinearRegression\n",
    "\n",
    "# For regression\n",
    "\n",
    "\n",
    "# For evaluating the model\n",
    "from sklearn.metrics import mean_squared_error,r2_score,accuracy_score,mean_absolute_error"
   ]
  },
  {
   "cell_type": "code",
   "execution_count": 44,
   "id": "5dd89863",
   "metadata": {},
   "outputs": [],
   "source": [
    "#Label encoding for categorical fields\n",
    "from sklearn.preprocessing import LabelEncoder"
   ]
  },
  {
   "cell_type": "code",
   "execution_count": 45,
   "id": "0e040573",
   "metadata": {},
   "outputs": [],
   "source": [
    "label_encoder = LabelEncoder()\n",
    "\n",
    "# List of columns to encode\n",
    "columns_to_encode = ['branch',\"city\",\"customer_type\",\"gender\",\"product_name\",\"product_category\"]\n",
    "\n",
    "# Apply Label Encoding to each column\n",
    "for col in columns_to_encode:\n",
    "    df[col] = label_encoder.fit_transform(df[col])"
   ]
  },
  {
   "cell_type": "code",
   "execution_count": 46,
   "id": "847ae8ca",
   "metadata": {},
   "outputs": [
    {
     "data": {
      "text/html": [
       "<div>\n",
       "<style scoped>\n",
       "    .dataframe tbody tr th:only-of-type {\n",
       "        vertical-align: middle;\n",
       "    }\n",
       "\n",
       "    .dataframe tbody tr th {\n",
       "        vertical-align: top;\n",
       "    }\n",
       "\n",
       "    .dataframe thead th {\n",
       "        text-align: right;\n",
       "    }\n",
       "</style>\n",
       "<table border=\"1\" class=\"dataframe\">\n",
       "  <thead>\n",
       "    <tr style=\"text-align: right;\">\n",
       "      <th></th>\n",
       "      <th>branch</th>\n",
       "      <th>city</th>\n",
       "      <th>customer_type</th>\n",
       "      <th>gender</th>\n",
       "      <th>product_name</th>\n",
       "      <th>product_category</th>\n",
       "      <th>unit_price</th>\n",
       "      <th>quantity</th>\n",
       "      <th>tax</th>\n",
       "      <th>total_price</th>\n",
       "      <th>reward_points</th>\n",
       "    </tr>\n",
       "  </thead>\n",
       "  <tbody>\n",
       "    <tr>\n",
       "      <th>0</th>\n",
       "      <td>0</td>\n",
       "      <td>2</td>\n",
       "      <td>0</td>\n",
       "      <td>1</td>\n",
       "      <td>4</td>\n",
       "      <td>3</td>\n",
       "      <td>5.50</td>\n",
       "      <td>3</td>\n",
       "      <td>1.16</td>\n",
       "      <td>17.66</td>\n",
       "      <td>1</td>\n",
       "    </tr>\n",
       "    <tr>\n",
       "      <th>1</th>\n",
       "      <td>1</td>\n",
       "      <td>1</td>\n",
       "      <td>1</td>\n",
       "      <td>0</td>\n",
       "      <td>2</td>\n",
       "      <td>4</td>\n",
       "      <td>2.75</td>\n",
       "      <td>10</td>\n",
       "      <td>1.93</td>\n",
       "      <td>29.43</td>\n",
       "      <td>0</td>\n",
       "    </tr>\n",
       "    <tr>\n",
       "      <th>2</th>\n",
       "      <td>0</td>\n",
       "      <td>2</td>\n",
       "      <td>0</td>\n",
       "      <td>0</td>\n",
       "      <td>0</td>\n",
       "      <td>1</td>\n",
       "      <td>1.20</td>\n",
       "      <td>15</td>\n",
       "      <td>1.26</td>\n",
       "      <td>19.26</td>\n",
       "      <td>1</td>\n",
       "    </tr>\n",
       "    <tr>\n",
       "      <th>3</th>\n",
       "      <td>0</td>\n",
       "      <td>0</td>\n",
       "      <td>1</td>\n",
       "      <td>1</td>\n",
       "      <td>1</td>\n",
       "      <td>2</td>\n",
       "      <td>7.80</td>\n",
       "      <td>5</td>\n",
       "      <td>2.73</td>\n",
       "      <td>41.73</td>\n",
       "      <td>0</td>\n",
       "    </tr>\n",
       "    <tr>\n",
       "      <th>4</th>\n",
       "      <td>1</td>\n",
       "      <td>1</td>\n",
       "      <td>0</td>\n",
       "      <td>0</td>\n",
       "      <td>3</td>\n",
       "      <td>0</td>\n",
       "      <td>3.50</td>\n",
       "      <td>7</td>\n",
       "      <td>1.72</td>\n",
       "      <td>26.22</td>\n",
       "      <td>2</td>\n",
       "    </tr>\n",
       "  </tbody>\n",
       "</table>\n",
       "</div>"
      ],
      "text/plain": [
       "   branch  city  customer_type  gender  product_name  product_category  \\\n",
       "0       0     2              0       1             4                 3   \n",
       "1       1     1              1       0             2                 4   \n",
       "2       0     2              0       0             0                 1   \n",
       "3       0     0              1       1             1                 2   \n",
       "4       1     1              0       0             3                 0   \n",
       "\n",
       "   unit_price  quantity   tax  total_price  reward_points  \n",
       "0        5.50         3  1.16        17.66              1  \n",
       "1        2.75        10  1.93        29.43              0  \n",
       "2        1.20        15  1.26        19.26              1  \n",
       "3        7.80         5  2.73        41.73              0  \n",
       "4        3.50         7  1.72        26.22              2  "
      ]
     },
     "execution_count": 46,
     "metadata": {},
     "output_type": "execute_result"
    }
   ],
   "source": [
    "df.head()"
   ]
  },
  {
   "cell_type": "code",
   "execution_count": 49,
   "id": "f932ad51",
   "metadata": {},
   "outputs": [],
   "source": [
    "X = df.drop(columns=[\"total_price\"])\n",
    "y = df[\"total_price\"]"
   ]
  },
  {
   "cell_type": "code",
   "execution_count": 50,
   "id": "f962d962",
   "metadata": {},
   "outputs": [
    {
     "data": {
      "text/html": [
       "<div>\n",
       "<style scoped>\n",
       "    .dataframe tbody tr th:only-of-type {\n",
       "        vertical-align: middle;\n",
       "    }\n",
       "\n",
       "    .dataframe tbody tr th {\n",
       "        vertical-align: top;\n",
       "    }\n",
       "\n",
       "    .dataframe thead th {\n",
       "        text-align: right;\n",
       "    }\n",
       "</style>\n",
       "<table border=\"1\" class=\"dataframe\">\n",
       "  <thead>\n",
       "    <tr style=\"text-align: right;\">\n",
       "      <th></th>\n",
       "      <th>branch</th>\n",
       "      <th>city</th>\n",
       "      <th>customer_type</th>\n",
       "      <th>gender</th>\n",
       "      <th>product_name</th>\n",
       "      <th>product_category</th>\n",
       "      <th>unit_price</th>\n",
       "      <th>quantity</th>\n",
       "      <th>tax</th>\n",
       "      <th>reward_points</th>\n",
       "    </tr>\n",
       "  </thead>\n",
       "  <tbody>\n",
       "    <tr>\n",
       "      <th>0</th>\n",
       "      <td>0</td>\n",
       "      <td>2</td>\n",
       "      <td>0</td>\n",
       "      <td>1</td>\n",
       "      <td>4</td>\n",
       "      <td>3</td>\n",
       "      <td>5.50</td>\n",
       "      <td>3</td>\n",
       "      <td>1.16</td>\n",
       "      <td>1</td>\n",
       "    </tr>\n",
       "    <tr>\n",
       "      <th>1</th>\n",
       "      <td>1</td>\n",
       "      <td>1</td>\n",
       "      <td>1</td>\n",
       "      <td>0</td>\n",
       "      <td>2</td>\n",
       "      <td>4</td>\n",
       "      <td>2.75</td>\n",
       "      <td>10</td>\n",
       "      <td>1.93</td>\n",
       "      <td>0</td>\n",
       "    </tr>\n",
       "    <tr>\n",
       "      <th>2</th>\n",
       "      <td>0</td>\n",
       "      <td>2</td>\n",
       "      <td>0</td>\n",
       "      <td>0</td>\n",
       "      <td>0</td>\n",
       "      <td>1</td>\n",
       "      <td>1.20</td>\n",
       "      <td>15</td>\n",
       "      <td>1.26</td>\n",
       "      <td>1</td>\n",
       "    </tr>\n",
       "    <tr>\n",
       "      <th>3</th>\n",
       "      <td>0</td>\n",
       "      <td>0</td>\n",
       "      <td>1</td>\n",
       "      <td>1</td>\n",
       "      <td>1</td>\n",
       "      <td>2</td>\n",
       "      <td>7.80</td>\n",
       "      <td>5</td>\n",
       "      <td>2.73</td>\n",
       "      <td>0</td>\n",
       "    </tr>\n",
       "    <tr>\n",
       "      <th>4</th>\n",
       "      <td>1</td>\n",
       "      <td>1</td>\n",
       "      <td>0</td>\n",
       "      <td>0</td>\n",
       "      <td>3</td>\n",
       "      <td>0</td>\n",
       "      <td>3.50</td>\n",
       "      <td>7</td>\n",
       "      <td>1.72</td>\n",
       "      <td>2</td>\n",
       "    </tr>\n",
       "  </tbody>\n",
       "</table>\n",
       "</div>"
      ],
      "text/plain": [
       "   branch  city  customer_type  gender  product_name  product_category  \\\n",
       "0       0     2              0       1             4                 3   \n",
       "1       1     1              1       0             2                 4   \n",
       "2       0     2              0       0             0                 1   \n",
       "3       0     0              1       1             1                 2   \n",
       "4       1     1              0       0             3                 0   \n",
       "\n",
       "   unit_price  quantity   tax  reward_points  \n",
       "0        5.50         3  1.16              1  \n",
       "1        2.75        10  1.93              0  \n",
       "2        1.20        15  1.26              1  \n",
       "3        7.80         5  2.73              0  \n",
       "4        3.50         7  1.72              2  "
      ]
     },
     "execution_count": 50,
     "metadata": {},
     "output_type": "execute_result"
    }
   ],
   "source": [
    "X.head()"
   ]
  },
  {
   "cell_type": "code",
   "execution_count": 51,
   "id": "39f0e112",
   "metadata": {},
   "outputs": [
    {
     "data": {
      "text/plain": [
       "0    17.66\n",
       "1    29.43\n",
       "2    19.26\n",
       "3    41.73\n",
       "4    26.22\n",
       "Name: total_price, dtype: float64"
      ]
     },
     "execution_count": 51,
     "metadata": {},
     "output_type": "execute_result"
    }
   ],
   "source": [
    "y.head()"
   ]
  },
  {
   "cell_type": "code",
   "execution_count": 52,
   "id": "a9a5f291",
   "metadata": {},
   "outputs": [],
   "source": [
    "X_train, X_test, y_train, y_test = train_test_split(X, y, test_size=0.2, random_state=42)"
   ]
  },
  {
   "cell_type": "code",
   "execution_count": 53,
   "id": "84e8f47c",
   "metadata": {},
   "outputs": [],
   "source": [
    "scaler = StandardScaler()\n",
    "X_train_scaled = scaler.fit_transform(X_train)\n",
    "X_test_scaled = scaler.transform(X_test)"
   ]
  },
  {
   "cell_type": "code",
   "execution_count": 54,
   "id": "04f2e78e",
   "metadata": {},
   "outputs": [],
   "source": [
    "rf_model = RandomForestRegressor(n_estimators=100, random_state=42)"
   ]
  },
  {
   "cell_type": "code",
   "execution_count": 71,
   "id": "5ecea4ce",
   "metadata": {},
   "outputs": [],
   "source": [
    "rf_model2 = GradientBoostingRegressor(n_estimators=100, random_state=47)"
   ]
  },
  {
   "cell_type": "code",
   "execution_count": 72,
   "id": "5762c14d",
   "metadata": {},
   "outputs": [
    {
     "data": {
      "text/plain": [
       "GradientBoostingRegressor(random_state=47)"
      ]
     },
     "execution_count": 72,
     "metadata": {},
     "output_type": "execute_result"
    }
   ],
   "source": [
    "rf_model2.fit(X_train_scaled,y_train)"
   ]
  },
  {
   "cell_type": "code",
   "execution_count": 55,
   "id": "9b253f41",
   "metadata": {},
   "outputs": [
    {
     "data": {
      "text/plain": [
       "RandomForestRegressor(random_state=42)"
      ]
     },
     "execution_count": 55,
     "metadata": {},
     "output_type": "execute_result"
    }
   ],
   "source": [
    "rf_model.fit(X_train_scaled,y_train)"
   ]
  },
  {
   "cell_type": "code",
   "execution_count": 56,
   "id": "c887ee7e",
   "metadata": {},
   "outputs": [],
   "source": [
    "y_prediction = rf_model.predict(X_test_scaled)"
   ]
  },
  {
   "cell_type": "code",
   "execution_count": 73,
   "id": "02705b96",
   "metadata": {},
   "outputs": [],
   "source": [
    "y_pred = rf_model2.predict(X_test_scaled)"
   ]
  },
  {
   "cell_type": "code",
   "execution_count": 58,
   "id": "7a284198",
   "metadata": {},
   "outputs": [],
   "source": [
    "mse1 = mean_squared_error(y_test,y_prediction)\n",
    "r21 = r2_score(y_test,y_prediction)\n",
    "mae = mean_absolute_error(y_test,y_prediction)\n"
   ]
  },
  {
   "cell_type": "code",
   "execution_count": 74,
   "id": "056640d3",
   "metadata": {},
   "outputs": [],
   "source": [
    "mse_2 = mean_squared_error(y_test,y_pred)\n",
    "mae_2 = mean_absolute_error(y_test,y_pred)\n",
    "r21_2 = r2_score(y_test,y_pred)"
   ]
  },
  {
   "cell_type": "code",
   "execution_count": 68,
   "id": "4f8bb2b9",
   "metadata": {},
   "outputs": [
    {
     "name": "stdout",
     "output_type": "stream",
     "text": [
      "MSE :  1.1038408967000375 R Squared :  0.9999014379090261 Mean Absolute Error :  0.4166570000000164\n"
     ]
    }
   ],
   "source": [
    "print(\"MSE : \", mse1,\"R Squared : \",r21,\"Mean Absolute Error : \", mae)"
   ]
  },
  {
   "cell_type": "code",
   "execution_count": 80,
   "id": "f494d25a",
   "metadata": {},
   "outputs": [
    {
     "name": "stdout",
     "output_type": "stream",
     "text": [
      "Results for Gradient Boosting Regressor\n",
      "MSE :  1.471515617610367 R Squared :  0.9998686081874607 Mean Absolute Error :  0.7361808671076414\n"
     ]
    }
   ],
   "source": [
    "print(\"Results for Gradient Boosting Regressor\")\n",
    "print(\"MSE : \", mse_2,\"R Squared : \",r21_2,\"Mean Absolute Error : \", mae_2)"
   ]
  },
  {
   "cell_type": "code",
   "execution_count": 59,
   "id": "a422a494",
   "metadata": {},
   "outputs": [
    {
     "data": {
      "image/png": "[encoded data removed]",
      "text/plain": [
       "<Figure size 720x432 with 1 Axes>"
      ]
     },
     "metadata": {
      "needs_background": "light"
     },
     "output_type": "display_data"
    }
   ],
   "source": [
    "# Create a DataFrame to hold the metrics\n",
    "metrics = pd.DataFrame({\n",
    "    'Metric': ['Mean Squared Error', 'R-squared Score', 'Mean Absolute Error'],\n",
    "    'Value': [mse1, r21, mae]\n",
    "})\n",
    "\n",
    "# Plotting\n",
    "plt.figure(figsize=(10, 6))\n",
    "plt.barh(metrics['Metric'], metrics['Value'], color='skyblue')\n",
    "plt.xlabel('Score')\n",
    "plt.title('Comparison of Regression Model Evaluation Metrics')\n",
    "plt.show()\n"
   ]
  },
  {
   "cell_type": "code",
   "execution_count": 69,
   "id": "1ef6a1b2",
   "metadata": {},
   "outputs": [
    {
     "name": "stdout",
     "output_type": "stream",
     "text": [
      "     Actual  Predicted\n",
      "0    389.63   397.0232\n",
      "1     67.97    67.8872\n",
      "2     31.84    31.6236\n",
      "3     49.08    49.1127\n",
      "4     41.47    41.6239\n",
      "..      ...        ...\n",
      "195   38.78    38.8449\n",
      "196   82.09    82.4765\n",
      "197   65.24    65.1221\n",
      "198   82.82    82.9660\n",
      "199  166.90   167.1060\n",
      "\n",
      "[200 rows x 2 columns]\n"
     ]
    }
   ],
   "source": [
    "import pandas as pd\n",
    "\n",
    "# Assuming y_test and y_pred are already defined\n",
    "# Convert y_test to a DataFrame and reset the index for alignment\n",
    "y_test_df = pd.DataFrame(y_test).reset_index(drop=True)\n",
    "\n",
    "# Convert y_pred to a DataFrame\n",
    "y_pred_df = pd.DataFrame(y_prediction, columns=['Predicted'])\n",
    "\n",
    "# Combine the two DataFrames\n",
    "results_df = pd.concat([y_test_df, y_pred_df], axis=1)\n",
    "results_df.columns = ['Actual', 'Predicted']\n",
    "\n",
    "print(results_df)"
   ]
  },
  {
   "cell_type": "code",
   "execution_count": 70,
   "id": "1925a3a6",
   "metadata": {},
   "outputs": [
    {
     "data": {
      "text/html": [
       "<div>\n",
       "<style scoped>\n",
       "    .dataframe tbody tr th:only-of-type {\n",
       "        vertical-align: middle;\n",
       "    }\n",
       "\n",
       "    .dataframe tbody tr th {\n",
       "        vertical-align: top;\n",
       "    }\n",
       "\n",
       "    .dataframe thead th {\n",
       "        text-align: right;\n",
       "    }\n",
       "</style>\n",
       "<table border=\"1\" class=\"dataframe\">\n",
       "  <thead>\n",
       "    <tr style=\"text-align: right;\">\n",
       "      <th></th>\n",
       "      <th>Actual</th>\n",
       "      <th>Predicted</th>\n",
       "    </tr>\n",
       "  </thead>\n",
       "  <tbody>\n",
       "    <tr>\n",
       "      <th>0</th>\n",
       "      <td>389.63</td>\n",
       "      <td>397.0232</td>\n",
       "    </tr>\n",
       "    <tr>\n",
       "      <th>1</th>\n",
       "      <td>67.97</td>\n",
       "      <td>67.8872</td>\n",
       "    </tr>\n",
       "    <tr>\n",
       "      <th>2</th>\n",
       "      <td>31.84</td>\n",
       "      <td>31.6236</td>\n",
       "    </tr>\n",
       "    <tr>\n",
       "      <th>3</th>\n",
       "      <td>49.08</td>\n",
       "      <td>49.1127</td>\n",
       "    </tr>\n",
       "    <tr>\n",
       "      <th>4</th>\n",
       "      <td>41.47</td>\n",
       "      <td>41.6239</td>\n",
       "    </tr>\n",
       "  </tbody>\n",
       "</table>\n",
       "</div>"
      ],
      "text/plain": [
       "   Actual  Predicted\n",
       "0  389.63   397.0232\n",
       "1   67.97    67.8872\n",
       "2   31.84    31.6236\n",
       "3   49.08    49.1127\n",
       "4   41.47    41.6239"
      ]
     },
     "execution_count": 70,
     "metadata": {},
     "output_type": "execute_result"
    }
   ],
   "source": [
    "results_df.head()"
   ]
  },
  {
   "cell_type": "code",
   "execution_count": 63,
   "id": "7bc69f4f",
   "metadata": {},
   "outputs": [
    {
     "data": {
      "image/png": "[encoded data removed]",
      "text/plain": [
       "<Figure size 864x720 with 1 Axes>"
      ]
     },
     "metadata": {
      "needs_background": "light"
     },
     "output_type": "display_data"
    }
   ],
   "source": [
    "\n",
    "# Create a scatter plot to compare results\n",
    "plt.figure(figsize=(12, 10))\n",
    "plt.scatter(y_test, y_prediction, color='blue', edgecolor='black', alpha=0.7)\n",
    "\n",
    "# Plot a 45-degree line (ideal prediction line)\n",
    "plt.plot([min(y_test), max(y_test)], [min(y_test), max(y_test)], color='red', linestyle='--')\n",
    "\n",
    "# Add labels and title\n",
    "plt.xlabel('Actual Values')\n",
    "plt.ylabel('Predicted Values')\n",
    "plt.title('Actual vs. Predicted Values')\n",
    "\n",
    "# Show the plot\n",
    "plt.grid(True)\n",
    "plt.show()\n",
    "\n"
   ]
  },
  {
   "cell_type": "code",
   "execution_count": 83,
   "id": "b82a5228",
   "metadata": {},
   "outputs": [
    {
     "name": "stdout",
     "output_type": "stream",
     "text": [
      "                Metric   Model 1   Model 2\n",
      "0   Mean Squared Error  1.103841  1.471516\n",
      "1      R-squared Score  0.999901  0.999869\n",
      "2  Mean Absolute Error  0.416657  0.736181\n"
     ]
    }
   ],
   "source": [
    "# Comparing the result of the two models\n",
    "#Create a DataFrame to hold the metrics\n",
    "\n",
    "\n",
    "# Create a DataFrame to display the metrics\n",
    "metrics = pd.DataFrame({\n",
    "    'Metric': ['Mean Squared Error', 'R-squared Score', 'Mean Absolute Error'],\n",
    "    'Model 1': [mse1, r21, mae],\n",
    "    'Model 2': [mse_2, r21_2, mae_2]\n",
    "})\n",
    "\n",
    "print(metrics)\n",
    "\n",
    "\n"
   ]
  },
  {
   "cell_type": "code",
   "execution_count": 85,
   "id": "04f23bec",
   "metadata": {},
   "outputs": [
    {
     "data": {
      "image/png": "[encoded data removed]",
      "text/plain": [
       "<Figure size 720x432 with 1 Axes>"
      ]
     },
     "metadata": {
      "needs_background": "light"
     },
     "output_type": "display_data"
    }
   ],
   "source": [
    "# Set the position of the bars on the x-axis\n",
    "import numpy as np\n",
    "bar_width = 0.35\n",
    "index = np.arange(len(metrics))\n",
    "\n",
    "# Create the plot\n",
    "fig, ax = plt.subplots(figsize=(10, 6))\n",
    "\n",
    "# Plot bars for Model 1 and Model 2\n",
    "bar1 = ax.bar(index, metrics['Model 1'], bar_width, label='Model 1', color='b')\n",
    "bar2 = ax.bar(index + bar_width, metrics['Model 2'], bar_width, label='Model 2', color='r')\n",
    "\n",
    "# Add labels, title, and legend\n",
    "ax.set_xlabel('Metrics')\n",
    "ax.set_ylabel('Scores')\n",
    "ax.set_title('Comparison of Regression Models')\n",
    "ax.set_xticks(index + bar_width / 2)\n",
    "ax.set_xticklabels(metrics['Metric'])\n",
    "ax.legend()\n",
    "\n",
    "# Display the plot\n",
    "plt.tight_layout()\n",
    "plt.show()\n"
   ]
  },
  {
   "cell_type": "code",
   "execution_count": null,
   "id": "f00e4ab1",
   "metadata": {},
   "outputs": [],
   "source": []
  }
 ],
 "metadata": {
  "kernelspec": {
   "display_name": "Python 3 (ipykernel)",
   "language": "python",
   "name": "python3"
  },
  "language_info": {
   "codemirror_mode": {
    "name": "ipython",
    "version": 3
   },
   "file_extension": ".py",
   "mimetype": "text/x-python",
   "name": "python",
   "nbconvert_exporter": "python",
   "pygments_lexer": "ipython3",
   "version": "3.9.12"
  }
 },
 "nbformat": 4,
 "nbformat_minor": 5
}
